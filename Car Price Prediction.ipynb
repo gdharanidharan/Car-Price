{
 "cells": [
  {
   "cell_type": "markdown",
   "metadata": {},
   "source": [
    "## IMPORTING LIBRARIES"
   ]
  },
  {
   "cell_type": "code",
   "execution_count": 1,
   "metadata": {},
   "outputs": [],
   "source": [
    "import pandas as pd\n",
    "import numpy as np\n",
    "import seaborn as sns\n",
    "import numpy as np\n",
    "import matplotlib.pyplot as plt\n",
    "%matplotlib inline"
   ]
  },
  {
   "cell_type": "code",
   "execution_count": 2,
   "metadata": {},
   "outputs": [
    {
     "data": {
      "text/plain": [
       "(205, 26)"
      ]
     },
     "execution_count": 2,
     "metadata": {},
     "output_type": "execute_result"
    }
   ],
   "source": [
    "dataset=pd.read_csv(\"CarPrice.csv\")\n",
    "dataset.head(10)\n",
    "dataset.shape\n"
   ]
  },
  {
   "cell_type": "code",
   "execution_count": 3,
   "metadata": {},
   "outputs": [
    {
     "name": "stdout",
     "output_type": "stream",
     "text": [
      "<class 'pandas.core.frame.DataFrame'>\n",
      "RangeIndex: 205 entries, 0 to 204\n",
      "Data columns (total 26 columns):\n",
      " #   Column            Non-Null Count  Dtype  \n",
      "---  ------            --------------  -----  \n",
      " 0   car_ID            205 non-null    int64  \n",
      " 1   symboling         205 non-null    int64  \n",
      " 2   CarName           205 non-null    object \n",
      " 3   fueltype          205 non-null    object \n",
      " 4   aspiration        205 non-null    object \n",
      " 5   doornumber        205 non-null    object \n",
      " 6   carbody           205 non-null    object \n",
      " 7   drivewheel        205 non-null    object \n",
      " 8   enginelocation    205 non-null    object \n",
      " 9   wheelbase         205 non-null    float64\n",
      " 10  carlength         205 non-null    float64\n",
      " 11  carwidth          205 non-null    float64\n",
      " 12  carheight         205 non-null    float64\n",
      " 13  curbweight        205 non-null    int64  \n",
      " 14  enginetype        205 non-null    object \n",
      " 15  cylindernumber    205 non-null    object \n",
      " 16  enginesize        205 non-null    int64  \n",
      " 17  fuelsystem        205 non-null    object \n",
      " 18  boreratio         205 non-null    float64\n",
      " 19  stroke            205 non-null    float64\n",
      " 20  compressionratio  205 non-null    float64\n",
      " 21  horsepower        205 non-null    int64  \n",
      " 22  peakrpm           205 non-null    int64  \n",
      " 23  citympg           205 non-null    int64  \n",
      " 24  highwaympg        205 non-null    int64  \n",
      " 25  price             205 non-null    float64\n",
      "dtypes: float64(8), int64(8), object(10)\n",
      "memory usage: 41.8+ KB\n"
     ]
    }
   ],
   "source": [
    "dataset.info()"
   ]
  },
  {
   "cell_type": "code",
   "execution_count": 4,
   "metadata": {},
   "outputs": [
    {
     "data": {
      "text/html": [
       "<div>\n",
       "<style scoped>\n",
       "    .dataframe tbody tr th:only-of-type {\n",
       "        vertical-align: middle;\n",
       "    }\n",
       "\n",
       "    .dataframe tbody tr th {\n",
       "        vertical-align: top;\n",
       "    }\n",
       "\n",
       "    .dataframe thead th {\n",
       "        text-align: right;\n",
       "    }\n",
       "</style>\n",
       "<table border=\"1\" class=\"dataframe\">\n",
       "  <thead>\n",
       "    <tr style=\"text-align: right;\">\n",
       "      <th></th>\n",
       "      <th>car_ID</th>\n",
       "      <th>symboling</th>\n",
       "      <th>wheelbase</th>\n",
       "      <th>carlength</th>\n",
       "      <th>carwidth</th>\n",
       "      <th>carheight</th>\n",
       "      <th>curbweight</th>\n",
       "      <th>enginesize</th>\n",
       "      <th>boreratio</th>\n",
       "      <th>stroke</th>\n",
       "      <th>compressionratio</th>\n",
       "      <th>horsepower</th>\n",
       "      <th>peakrpm</th>\n",
       "      <th>citympg</th>\n",
       "      <th>highwaympg</th>\n",
       "      <th>price</th>\n",
       "    </tr>\n",
       "  </thead>\n",
       "  <tbody>\n",
       "    <tr>\n",
       "      <th>count</th>\n",
       "      <td>205.000000</td>\n",
       "      <td>205.000000</td>\n",
       "      <td>205.000000</td>\n",
       "      <td>205.000000</td>\n",
       "      <td>205.000000</td>\n",
       "      <td>205.000000</td>\n",
       "      <td>205.000000</td>\n",
       "      <td>205.000000</td>\n",
       "      <td>205.000000</td>\n",
       "      <td>205.000000</td>\n",
       "      <td>205.000000</td>\n",
       "      <td>205.000000</td>\n",
       "      <td>205.000000</td>\n",
       "      <td>205.000000</td>\n",
       "      <td>205.000000</td>\n",
       "      <td>205.000000</td>\n",
       "    </tr>\n",
       "    <tr>\n",
       "      <th>mean</th>\n",
       "      <td>103.000000</td>\n",
       "      <td>0.834146</td>\n",
       "      <td>98.756585</td>\n",
       "      <td>174.049268</td>\n",
       "      <td>65.907805</td>\n",
       "      <td>53.724878</td>\n",
       "      <td>2555.565854</td>\n",
       "      <td>126.907317</td>\n",
       "      <td>3.329756</td>\n",
       "      <td>3.255415</td>\n",
       "      <td>10.142537</td>\n",
       "      <td>104.117073</td>\n",
       "      <td>5125.121951</td>\n",
       "      <td>25.219512</td>\n",
       "      <td>30.751220</td>\n",
       "      <td>13276.710571</td>\n",
       "    </tr>\n",
       "    <tr>\n",
       "      <th>std</th>\n",
       "      <td>59.322565</td>\n",
       "      <td>1.245307</td>\n",
       "      <td>6.021776</td>\n",
       "      <td>12.337289</td>\n",
       "      <td>2.145204</td>\n",
       "      <td>2.443522</td>\n",
       "      <td>520.680204</td>\n",
       "      <td>41.642693</td>\n",
       "      <td>0.270844</td>\n",
       "      <td>0.313597</td>\n",
       "      <td>3.972040</td>\n",
       "      <td>39.544167</td>\n",
       "      <td>476.985643</td>\n",
       "      <td>6.542142</td>\n",
       "      <td>6.886443</td>\n",
       "      <td>7988.852332</td>\n",
       "    </tr>\n",
       "    <tr>\n",
       "      <th>min</th>\n",
       "      <td>1.000000</td>\n",
       "      <td>-2.000000</td>\n",
       "      <td>86.600000</td>\n",
       "      <td>141.100000</td>\n",
       "      <td>60.300000</td>\n",
       "      <td>47.800000</td>\n",
       "      <td>1488.000000</td>\n",
       "      <td>61.000000</td>\n",
       "      <td>2.540000</td>\n",
       "      <td>2.070000</td>\n",
       "      <td>7.000000</td>\n",
       "      <td>48.000000</td>\n",
       "      <td>4150.000000</td>\n",
       "      <td>13.000000</td>\n",
       "      <td>16.000000</td>\n",
       "      <td>5118.000000</td>\n",
       "    </tr>\n",
       "    <tr>\n",
       "      <th>25%</th>\n",
       "      <td>52.000000</td>\n",
       "      <td>0.000000</td>\n",
       "      <td>94.500000</td>\n",
       "      <td>166.300000</td>\n",
       "      <td>64.100000</td>\n",
       "      <td>52.000000</td>\n",
       "      <td>2145.000000</td>\n",
       "      <td>97.000000</td>\n",
       "      <td>3.150000</td>\n",
       "      <td>3.110000</td>\n",
       "      <td>8.600000</td>\n",
       "      <td>70.000000</td>\n",
       "      <td>4800.000000</td>\n",
       "      <td>19.000000</td>\n",
       "      <td>25.000000</td>\n",
       "      <td>7788.000000</td>\n",
       "    </tr>\n",
       "    <tr>\n",
       "      <th>50%</th>\n",
       "      <td>103.000000</td>\n",
       "      <td>1.000000</td>\n",
       "      <td>97.000000</td>\n",
       "      <td>173.200000</td>\n",
       "      <td>65.500000</td>\n",
       "      <td>54.100000</td>\n",
       "      <td>2414.000000</td>\n",
       "      <td>120.000000</td>\n",
       "      <td>3.310000</td>\n",
       "      <td>3.290000</td>\n",
       "      <td>9.000000</td>\n",
       "      <td>95.000000</td>\n",
       "      <td>5200.000000</td>\n",
       "      <td>24.000000</td>\n",
       "      <td>30.000000</td>\n",
       "      <td>10295.000000</td>\n",
       "    </tr>\n",
       "    <tr>\n",
       "      <th>75%</th>\n",
       "      <td>154.000000</td>\n",
       "      <td>2.000000</td>\n",
       "      <td>102.400000</td>\n",
       "      <td>183.100000</td>\n",
       "      <td>66.900000</td>\n",
       "      <td>55.500000</td>\n",
       "      <td>2935.000000</td>\n",
       "      <td>141.000000</td>\n",
       "      <td>3.580000</td>\n",
       "      <td>3.410000</td>\n",
       "      <td>9.400000</td>\n",
       "      <td>116.000000</td>\n",
       "      <td>5500.000000</td>\n",
       "      <td>30.000000</td>\n",
       "      <td>34.000000</td>\n",
       "      <td>16503.000000</td>\n",
       "    </tr>\n",
       "    <tr>\n",
       "      <th>max</th>\n",
       "      <td>205.000000</td>\n",
       "      <td>3.000000</td>\n",
       "      <td>120.900000</td>\n",
       "      <td>208.100000</td>\n",
       "      <td>72.300000</td>\n",
       "      <td>59.800000</td>\n",
       "      <td>4066.000000</td>\n",
       "      <td>326.000000</td>\n",
       "      <td>3.940000</td>\n",
       "      <td>4.170000</td>\n",
       "      <td>23.000000</td>\n",
       "      <td>288.000000</td>\n",
       "      <td>6600.000000</td>\n",
       "      <td>49.000000</td>\n",
       "      <td>54.000000</td>\n",
       "      <td>45400.000000</td>\n",
       "    </tr>\n",
       "  </tbody>\n",
       "</table>\n",
       "</div>"
      ],
      "text/plain": [
       "           car_ID   symboling   wheelbase   carlength    carwidth   carheight  \\\n",
       "count  205.000000  205.000000  205.000000  205.000000  205.000000  205.000000   \n",
       "mean   103.000000    0.834146   98.756585  174.049268   65.907805   53.724878   \n",
       "std     59.322565    1.245307    6.021776   12.337289    2.145204    2.443522   \n",
       "min      1.000000   -2.000000   86.600000  141.100000   60.300000   47.800000   \n",
       "25%     52.000000    0.000000   94.500000  166.300000   64.100000   52.000000   \n",
       "50%    103.000000    1.000000   97.000000  173.200000   65.500000   54.100000   \n",
       "75%    154.000000    2.000000  102.400000  183.100000   66.900000   55.500000   \n",
       "max    205.000000    3.000000  120.900000  208.100000   72.300000   59.800000   \n",
       "\n",
       "        curbweight  enginesize   boreratio      stroke  compressionratio  \\\n",
       "count   205.000000  205.000000  205.000000  205.000000        205.000000   \n",
       "mean   2555.565854  126.907317    3.329756    3.255415         10.142537   \n",
       "std     520.680204   41.642693    0.270844    0.313597          3.972040   \n",
       "min    1488.000000   61.000000    2.540000    2.070000          7.000000   \n",
       "25%    2145.000000   97.000000    3.150000    3.110000          8.600000   \n",
       "50%    2414.000000  120.000000    3.310000    3.290000          9.000000   \n",
       "75%    2935.000000  141.000000    3.580000    3.410000          9.400000   \n",
       "max    4066.000000  326.000000    3.940000    4.170000         23.000000   \n",
       "\n",
       "       horsepower      peakrpm     citympg  highwaympg         price  \n",
       "count  205.000000   205.000000  205.000000  205.000000    205.000000  \n",
       "mean   104.117073  5125.121951   25.219512   30.751220  13276.710571  \n",
       "std     39.544167   476.985643    6.542142    6.886443   7988.852332  \n",
       "min     48.000000  4150.000000   13.000000   16.000000   5118.000000  \n",
       "25%     70.000000  4800.000000   19.000000   25.000000   7788.000000  \n",
       "50%     95.000000  5200.000000   24.000000   30.000000  10295.000000  \n",
       "75%    116.000000  5500.000000   30.000000   34.000000  16503.000000  \n",
       "max    288.000000  6600.000000   49.000000   54.000000  45400.000000  "
      ]
     },
     "execution_count": 4,
     "metadata": {},
     "output_type": "execute_result"
    }
   ],
   "source": [
    "dataset.describe()"
   ]
  },
  {
   "cell_type": "code",
   "execution_count": 5,
   "metadata": {},
   "outputs": [],
   "source": [
    "x=dataset.iloc[:,:-1]\n",
    "y=dataset.iloc[:,-1]"
   ]
  },
  {
   "cell_type": "code",
   "execution_count": 6,
   "metadata": {},
   "outputs": [],
   "source": [
    "x=x.drop(['car_ID','symboling'],axis=1)"
   ]
  },
  {
   "cell_type": "markdown",
   "metadata": {},
   "source": [
    "## EDA"
   ]
  },
  {
   "cell_type": "code",
   "execution_count": 7,
   "metadata": {
    "scrolled": false
   },
   "outputs": [
    {
     "name": "stdout",
     "output_type": "stream",
     "text": [
      "<class 'pandas.core.frame.DataFrame'>\n",
      "RangeIndex: 205 entries, 0 to 204\n",
      "Data columns (total 23 columns):\n",
      " #   Column            Non-Null Count  Dtype  \n",
      "---  ------            --------------  -----  \n",
      " 0   CarName           205 non-null    object \n",
      " 1   fueltype          205 non-null    object \n",
      " 2   aspiration        205 non-null    object \n",
      " 3   doornumber        205 non-null    object \n",
      " 4   carbody           205 non-null    object \n",
      " 5   drivewheel        205 non-null    object \n",
      " 6   enginelocation    205 non-null    object \n",
      " 7   wheelbase         205 non-null    float64\n",
      " 8   carlength         205 non-null    float64\n",
      " 9   carwidth          205 non-null    float64\n",
      " 10  carheight         205 non-null    float64\n",
      " 11  curbweight        205 non-null    int64  \n",
      " 12  enginetype        205 non-null    object \n",
      " 13  cylindernumber    205 non-null    object \n",
      " 14  enginesize        205 non-null    int64  \n",
      " 15  fuelsystem        205 non-null    object \n",
      " 16  boreratio         205 non-null    float64\n",
      " 17  stroke            205 non-null    float64\n",
      " 18  compressionratio  205 non-null    float64\n",
      " 19  horsepower        205 non-null    int64  \n",
      " 20  peakrpm           205 non-null    int64  \n",
      " 21  citympg           205 non-null    int64  \n",
      " 22  highwaympg        205 non-null    int64  \n",
      "dtypes: float64(7), int64(6), object(10)\n",
      "memory usage: 37.0+ KB\n"
     ]
    }
   ],
   "source": [
    "total = x.isnull().sum().sort_values(ascending=False)#to find no of null values in each  column\n",
    "total1=x.isnull().count().sort_values(ascending=False)\n",
    "x.info()\n",
    "percent = x.isnull().sum()/x.isnull().count().sort_values(\n",
    "        ascending=False)*100\n",
    "        \n",
    "missing_data = pd.concat([total,percent], axis=1,\n",
    "                         keys=['Total','Percent'])"
   ]
  },
  {
   "cell_type": "code",
   "execution_count": 8,
   "metadata": {},
   "outputs": [
    {
     "name": "stdout",
     "output_type": "stream",
     "text": [
      "                  Total  Percent\n",
      "CarName               0      0.0\n",
      "enginetype            0      0.0\n",
      "citympg               0      0.0\n",
      "peakrpm               0      0.0\n",
      "horsepower            0      0.0\n",
      "compressionratio      0      0.0\n",
      "stroke                0      0.0\n",
      "boreratio             0      0.0\n",
      "fuelsystem            0      0.0\n",
      "enginesize            0      0.0\n",
      "cylindernumber        0      0.0\n",
      "curbweight            0      0.0\n",
      "fueltype              0      0.0\n",
      "carheight             0      0.0\n",
      "carwidth              0      0.0\n",
      "carlength             0      0.0\n",
      "wheelbase             0      0.0\n",
      "enginelocation        0      0.0\n",
      "drivewheel            0      0.0\n",
      "carbody               0      0.0\n",
      "doornumber            0      0.0\n",
      "aspiration            0      0.0\n",
      "highwaympg            0      0.0\n"
     ]
    }
   ],
   "source": [
    "print(missing_data)"
   ]
  },
  {
   "cell_type": "code",
   "execution_count": 9,
   "metadata": {},
   "outputs": [
    {
     "data": {
      "text/plain": [
       "<AxesSubplot:>"
      ]
     },
     "execution_count": 9,
     "metadata": {},
     "output_type": "execute_result"
    },
    {
     "data": {
      "image/png": "[encoded data removed]",
      "text/plain": [
       "<Figure size 1080x1080 with 2 Axes>"
      ]
     },
     "metadata": {
      "needs_background": "light"
     },
     "output_type": "display_data"
    }
   ],
   "source": [
    "corr=dataset.corr()\n",
    "corr.style.background_gradient(cmap=\"inferno\")\n",
    "\n",
    "plt.figure(figsize=(15,15))\n",
    "sns.heatmap(dataset.corr(),annot=True,cmap='inferno')"
   ]
  },
  {
   "cell_type": "code",
   "execution_count": 10,
   "metadata": {},
   "outputs": [],
   "source": [
    "x.dtypes\n",
    "numerics = ['int64', 'float64']\n",
    "cat_num=x.select_dtypes(include=numerics)"
   ]
  },
  {
   "cell_type": "code",
   "execution_count": 11,
   "metadata": {
    "scrolled": true
   },
   "outputs": [
    {
     "data": {
      "text/plain": [
       "<AxesSubplot:xlabel='highwaympg'>"
      ]
     },
     "execution_count": 11,
     "metadata": {},
     "output_type": "execute_result"
    },
    {
     "data": {
      "image/png": "[encoded data removed]",
      "text/plain": [
       "<Figure size 1008x432 with 6 Axes>"
      ]
     },
     "metadata": {
      "needs_background": "light"
     },
     "output_type": "display_data"
    },
    {
     "data": {
      "image/png": "[encoded data removed]",
      "text/plain": [
       "<Figure size 1080x432 with 6 Axes>"
      ]
     },
     "metadata": {
      "needs_background": "light"
     },
     "output_type": "display_data"
    },
    {
     "data": {
      "image/png": "[encoded data removed]",
      "text/plain": [
       "<Figure size 1080x216 with 1 Axes>"
      ]
     },
     "metadata": {
      "needs_background": "light"
     },
     "output_type": "display_data"
    }
   ],
   "source": [
    "#outlier analysis\n",
    "plt.figure(figsize=(14, 6))\n",
    "plt.subplot(2,3,1)\n",
    "sns.boxplot(x = 'wheelbase', data = cat_num)\n",
    "plt.subplot(2,3,2)\n",
    "sns.boxplot(x = 'carlength', data = cat_num)\n",
    "plt.subplot(2,3,3)\n",
    "sns.boxplot(x = 'carwidth', data = cat_num)\n",
    "plt.subplot(2,3,4)\n",
    "sns.boxplot(x = 'carheight', data = cat_num)\n",
    "plt.subplot(2,3,5)\n",
    "sns.boxplot(x = 'curbweight', data = cat_num)\n",
    "plt.subplot(2,3,6)\n",
    "sns.boxplot(x = 'enginesize', data = cat_num)\n",
    "plt.figure(figsize=(15, 6))\n",
    "plt.subplot(2,3,1)\n",
    "sns.boxplot(x = 'boreratio', data = cat_num)\n",
    "plt.subplot(2,3,2)\n",
    "sns.boxplot(x = 'stroke', data = cat_num)\n",
    "plt.subplot(2,3,3)\n",
    "sns.boxplot(x = 'compressionratio', data = cat_num)\n",
    "plt.subplot(2,3,4)\n",
    "sns.boxplot(x = 'horsepower', data = cat_num)\n",
    "plt.subplot(2,3,5)\n",
    "sns.boxplot(x = 'peakrpm', data = cat_num)\n",
    "plt.subplot(2,3,6)\n",
    "sns.boxplot(x = 'citympg', data = cat_num)\n",
    "plt.figure(figsize=(15, 3))\n",
    "plt.subplot(1,2,1)\n",
    "sns.boxplot(x = 'highwaympg', data = cat_num)"
   ]
  },
  {
   "cell_type": "code",
   "execution_count": 12,
   "metadata": {},
   "outputs": [
    {
     "data": {
      "text/plain": [
       "'\\n# calculate the first quartile\\nQ1 = x.quantile(0.25)\\n\\n#calculate the third quartile\\nQ3 = x.quantile(0.75)\\n\\n# The Interquartile Range (IQR) is defined as difference between the third and first quartile\\n# calculate IQR\\nIQR = Q3 - Q1\\nprint(IQR)\\nx_outliers = x[((x < (Q1 - 1.5 * IQR)) | (x > (Q3 + 1.5 * IQR))).any(axis=1)]\\n'"
      ]
     },
     "execution_count": 12,
     "metadata": {},
     "output_type": "execute_result"
    }
   ],
   "source": [
    "\"\"\"\n",
    "# calculate the first quartile\n",
    "Q1 = x.quantile(0.25)\n",
    "\n",
    "#calculate the third quartile\n",
    "Q3 = x.quantile(0.75)\n",
    "\n",
    "# The Interquartile Range (IQR) is defined as difference between the third and first quartile\n",
    "# calculate IQR\n",
    "IQR = Q3 - Q1\n",
    "print(IQR)\n",
    "x_outliers = x[((x < (Q1 - 1.5 * IQR)) | (x > (Q3 + 1.5 * IQR))).any(axis=1)]\n",
    "\"\"\""
   ]
  },
  {
   "cell_type": "code",
   "execution_count": 13,
   "metadata": {},
   "outputs": [
    {
     "data": {
      "image/png": "[encoded data removed]",
      "text/plain": [
       "<Figure size 1008x432 with 1 Axes>"
      ]
     },
     "metadata": {
      "needs_background": "light"
     },
     "output_type": "display_data"
    }
   ],
   "source": [
    "import warnings\n",
    "warnings.filterwarnings(\"ignore\")\n",
    "#removing outliers\n",
    "plt.figure(figsize=(14, 6))\n",
    "plt.subplot(2,3,1)\n",
    "sns.boxplot(x = 'wheelbase', data = cat_num)\n",
    "\n",
    "cat_num['wheelbase']=cat_num['wheelbase'].rank()\n",
    "#sns.boxplot(x = 'wheelbase', data = cat_num)  #checking\n",
    "sns.boxplot(x = 'carlength', data = cat_num)\n",
    "cat_num['carlength']=cat_num['carlength'].rank()\n",
    "\n",
    "sns.boxplot(x = 'carwidth', data = cat_num)\n",
    "cat_num['carwidth']=cat_num['carwidth'].rank()\n",
    "\n",
    "sns.boxplot(x = 'carheight', data = cat_num)\n",
    "cat_num['carheight']=cat_num['carheight'].rank()\n",
    "\n",
    "sns.boxplot(x = 'curbweight', data = cat_num)\n",
    "cat_num['curbweight']=cat_num['curbweight'].rank()\n",
    "\n",
    "sns.boxplot(x = 'enginesize', data = cat_num)\n",
    "cat_num['enginesize']=cat_num['enginesize'].rank()\n",
    "\n",
    "sns.boxplot(x = 'boreratio', data = cat_num)\n",
    "cat_num['boreratio']=cat_num['boreratio'].rank()\n",
    "\n",
    "sns.boxplot(x = 'stroke', data = cat_num)\n",
    "cat_num['stroke']=cat_num['stroke'].rank()\n",
    "\n",
    "sns.boxplot(x = 'compressionratio', data = cat_num)\n",
    "cat_num['compressionratio']=cat_num['compressionratio'].rank()\n",
    "\n",
    "sns.boxplot(x = 'horsepower', data = cat_num)\n",
    "cat_num['horsepower']=cat_num['horsepower'].rank()\n",
    "\n",
    "sns.boxplot(x = 'peakrpm', data = cat_num)\n",
    "cat_num['peakrpm']=cat_num['peakrpm'].rank()\n",
    "\n",
    "sns.boxplot(x = 'citympg', data = cat_num)\n",
    "cat_num['citympg']=cat_num['citympg'].rank()\n",
    "\n",
    "sns.boxplot(x = 'highwaympg', data = cat_num)\n",
    "cat_num['highwaympg']=cat_num['highwaympg'].rank()\n"
   ]
  },
  {
   "cell_type": "code",
   "execution_count": 14,
   "metadata": {},
   "outputs": [
    {
     "data": {
      "image/png": "[encoded data removed]",
      "text/plain": [
       "<Figure size 432x288 with 1 Axes>"
      ]
     },
     "metadata": {
      "needs_background": "light"
     },
     "output_type": "display_data"
    },
    {
     "data": {
      "image/png": "[encoded data removed]",
      "text/plain": [
       "<Figure size 432x288 with 1 Axes>"
      ]
     },
     "metadata": {
      "needs_background": "light"
     },
     "output_type": "display_data"
    },
    {
     "data": {
      "image/png": "[encoded data removed]",
      "text/plain": [
       "<Figure size 432x288 with 1 Axes>"
      ]
     },
     "metadata": {
      "needs_background": "light"
     },
     "output_type": "display_data"
    },
    {
     "data": {
      "image/png": "[encoded data removed]",
      "text/plain": [
       "<Figure size 432x288 with 1 Axes>"
      ]
     },
     "metadata": {
      "needs_background": "light"
     },
     "output_type": "display_data"
    },
    {
     "data": {
      "image/png": "[encoded data removed]",
      "text/plain": [
       "<Figure size 432x288 with 1 Axes>"
      ]
     },
     "metadata": {
      "needs_background": "light"
     },
     "output_type": "display_data"
    },
    {
     "data": {
      "image/png": "[encoded data removed]",
      "text/plain": [
       "<Figure size 432x288 with 1 Axes>"
      ]
     },
     "metadata": {
      "needs_background": "light"
     },
     "output_type": "display_data"
    }
   ],
   "source": [
    "cat_features= x.select_dtypes(include='object')\n",
    "def plotgraph(cat_features,colname):\n",
    "    sns.countplot(x=colname,data=cat_features)\n",
    "    plt.title(colname)\n",
    "    plt.show()\n",
    "\n",
    "plt.subplot(2,2,1)\n",
    "plotgraph(cat_features,'enginelocation')\n",
    "plt.subplot(2,2,2)\n",
    "plotgraph(cat_features,'fueltype')\n",
    "plt.subplot(2,2,3)\n",
    "plotgraph(cat_features,'aspiration')\n",
    "plt.subplot(2,2,4)\n",
    "plotgraph(cat_features,'doornumber')\n",
    "plt.subplot(2,3,5)\n",
    "plotgraph(cat_features,'carbody')\n",
    "plt.subplot(2,3,6)\n",
    "plotgraph(cat_features,'drivewheel')\n",
    "plt.show()\n"
   ]
  },
  {
   "cell_type": "code",
   "execution_count": 15,
   "metadata": {},
   "outputs": [
    {
     "data": {
      "text/plain": [
       "<AxesSubplot:xlabel='price', ylabel='Density'>"
      ]
     },
     "execution_count": 15,
     "metadata": {},
     "output_type": "execute_result"
    },
    {
     "data": {
      "image/png": "[encoded data removed]",
      "text/plain": [
       "<Figure size 432x288 with 1 Axes>"
      ]
     },
     "metadata": {
      "needs_background": "light"
     },
     "output_type": "display_data"
    }
   ],
   "source": [
    "sns.distplot(dataset['price'],color=\"y\")"
   ]
  },
  {
   "cell_type": "markdown",
   "metadata": {},
   "source": [
    "Inferences\n",
    "1)The engine is mostly located in the front of the car\n",
    "2)Most of the cars use gas as their fuel\n",
    "3)The aspiration employed by most vehicles is std (standard)\n",
    "4)Just over half the cars sold have four doors\n",
    "5)The most popular car body is sedan\n",
    "6)Most of the cars have a fwd drive "
   ]
  },
  {
   "cell_type": "code",
   "execution_count": 16,
   "metadata": {},
   "outputs": [
    {
     "name": "stdout",
     "output_type": "stream",
     "text": [
      "<class 'pandas.core.frame.DataFrame'>\n",
      "RangeIndex: 205 entries, 0 to 204\n",
      "Data columns (total 60 columns):\n",
      " #   Column                 Non-Null Count  Dtype\n",
      "---  ------                 --------------  -----\n",
      " 0   CarName_alfa           205 non-null    uint8\n",
      " 1   CarName_audi           205 non-null    uint8\n",
      " 2   CarName_bmw            205 non-null    uint8\n",
      " 3   CarName_buick          205 non-null    uint8\n",
      " 4   CarName_chevrolet      205 non-null    uint8\n",
      " 5   CarName_dodge          205 non-null    uint8\n",
      " 6   CarName_honda          205 non-null    uint8\n",
      " 7   CarName_isuzu          205 non-null    uint8\n",
      " 8   CarName_jaguar         205 non-null    uint8\n",
      " 9   CarName_mazda          205 non-null    uint8\n",
      " 10  CarName_mercury        205 non-null    uint8\n",
      " 11  CarName_mitsubishi     205 non-null    uint8\n",
      " 12  CarName_nissan         205 non-null    uint8\n",
      " 13  CarName_peugeot        205 non-null    uint8\n",
      " 14  CarName_plymouth       205 non-null    uint8\n",
      " 15  CarName_porcshce       205 non-null    uint8\n",
      " 16  CarName_porsche        205 non-null    uint8\n",
      " 17  CarName_renault        205 non-null    uint8\n",
      " 18  CarName_saab           205 non-null    uint8\n",
      " 19  CarName_subaru         205 non-null    uint8\n",
      " 20  CarName_toyota         205 non-null    uint8\n",
      " 21  CarName_volkswagen     205 non-null    uint8\n",
      " 22  CarName_volvo          205 non-null    uint8\n",
      " 23  fueltype_diesel        205 non-null    uint8\n",
      " 24  fueltype_gas           205 non-null    uint8\n",
      " 25  aspiration_std         205 non-null    uint8\n",
      " 26  aspiration_turbo       205 non-null    uint8\n",
      " 27  doornumber_four        205 non-null    uint8\n",
      " 28  doornumber_two         205 non-null    uint8\n",
      " 29  carbody_convertible    205 non-null    uint8\n",
      " 30  carbody_hardtop        205 non-null    uint8\n",
      " 31  carbody_hatchback      205 non-null    uint8\n",
      " 32  carbody_sedan          205 non-null    uint8\n",
      " 33  carbody_wagon          205 non-null    uint8\n",
      " 34  drivewheel_fwd         205 non-null    uint8\n",
      " 35  drivewheel_rwd         205 non-null    uint8\n",
      " 36  enginelocation_front   205 non-null    uint8\n",
      " 37  enginelocation_rear    205 non-null    uint8\n",
      " 38  enginetype_dohc        205 non-null    uint8\n",
      " 39  enginetype_dohcv       205 non-null    uint8\n",
      " 40  enginetype_l           205 non-null    uint8\n",
      " 41  enginetype_ohc         205 non-null    uint8\n",
      " 42  enginetype_ohcf        205 non-null    uint8\n",
      " 43  enginetype_ohcv        205 non-null    uint8\n",
      " 44  enginetype_rotor       205 non-null    uint8\n",
      " 45  cylindernumber_eight   205 non-null    uint8\n",
      " 46  cylindernumber_five    205 non-null    uint8\n",
      " 47  cylindernumber_four    205 non-null    uint8\n",
      " 48  cylindernumber_six     205 non-null    uint8\n",
      " 49  cylindernumber_three   205 non-null    uint8\n",
      " 50  cylindernumber_twelve  205 non-null    uint8\n",
      " 51  cylindernumber_two     205 non-null    uint8\n",
      " 52  fuelsystem_1bbl        205 non-null    uint8\n",
      " 53  fuelsystem_2bbl        205 non-null    uint8\n",
      " 54  fuelsystem_4bbl        205 non-null    uint8\n",
      " 55  fuelsystem_idi         205 non-null    uint8\n",
      " 56  fuelsystem_mfi         205 non-null    uint8\n",
      " 57  fuelsystem_mpfi        205 non-null    uint8\n",
      " 58  fuelsystem_spdi        205 non-null    uint8\n",
      " 59  fuelsystem_spfi        205 non-null    uint8\n",
      "dtypes: uint8(60)\n",
      "memory usage: 12.1 KB\n"
     ]
    }
   ],
   "source": [
    "x['CarName'] = x['CarName'].str.split('-').str[0]#to get the brand names\n",
    "x['CarName'] = x['CarName'].str.split(' ').str[0]#to get the brand names\n",
    "\n",
    "x['CarName'] = x['CarName'].str.lower()\n",
    "\n",
    "x['CarName'] = x['CarName'].str.replace('vw','volkswagen')\n",
    "x['CarName'] = x['CarName'].str.replace('maxda','mazda')\n",
    "x['CarName'] = x['CarName'].str.replace('vokswagen','volkswagen')\n",
    "x['CarName'] = x['CarName'].str.replace('toyouta','toyota')\n",
    "\n",
    "x['drivewheel'] = x['drivewheel'].str.replace('4wd','fwd')\n",
    "\n",
    "cat_features['CarName'] = cat_features['CarName'].str.split('-').str[0]#to get the brand names\n",
    "cat_features['CarName'] = cat_features['CarName'].str.split(' ').str[0]#to get the brand names\n",
    "\n",
    "cat_features['CarName'] = cat_features['CarName'].str.lower()\n",
    "\n",
    "cat_features['CarName'] = cat_features['CarName'].str.replace('vw','volkswagen')\n",
    "cat_features['CarName'] = cat_features['CarName'].str.replace('maxda','mazda')\n",
    "cat_features['CarName'] = cat_features['CarName'].str.replace('vokswagen','volkswagen')\n",
    "cat_features['CarName'] = cat_features['CarName'].str.replace('toyouta','toyota')\n",
    "\n",
    "cat_features['drivewheel'] = cat_features['drivewheel'].str.replace('4wd','fwd')\n",
    "\n",
    "x_cat=pd.get_dummies(cat_features)\n",
    "#dropping columns \n",
    "x_cat.info()\n",
    "x_cat=x_cat.drop(['CarName_alfa' ,'fueltype_diesel','aspiration_std','doornumber_four','carbody_convertible','drivewheel_rwd','enginelocation_front','enginetype_dohc','cylindernumber_eight','fuelsystem_1bbl'],axis=1)\n",
    "\n",
    "x1=pd.concat([x_cat,cat_num],axis=1)"
   ]
  },
  {
   "cell_type": "code",
   "execution_count": 17,
   "metadata": {},
   "outputs": [],
   "source": [
    "from sklearn.model_selection import train_test_split\n",
    "x_train, x_test,y_train,y_test = train_test_split(x1,y,test_size = 0.3, random_state = 100)"
   ]
  },
  {
   "cell_type": "markdown",
   "metadata": {},
   "source": [
    "## Correlation VIF"
   ]
  },
  {
   "cell_type": "code",
   "execution_count": 18,
   "metadata": {},
   "outputs": [],
   "source": [
    "from statsmodels.stats.outliers_influence import variance_inflation_factor    \n",
    "def vif_calc(X):\n",
    "  import numpy as np\n",
    "  thresh=3\n",
    "  cols = x_train.columns\n",
    "  variables = np.arange(x_train.shape[1])\n",
    "  dropped=True\n",
    "  while dropped:\n",
    "       dropped=False\n",
    "       c = x_train[cols[variables]].values\n",
    "       vif = [variance_inflation_factor(c, i) for i in np.arange(c.shape[1])]\n",
    "       maxloc = vif.index(max(vif))\n",
    "       if max(vif) > thresh:\n",
    "        print('dropping \\'' + x_train[cols[variables]].columns[maxloc] + '\\' at index: ' + str(maxloc))\n",
    "        variables = np.delete(variables, maxloc)\n",
    "        dropped=True\n",
    "  print('Remaining variables:')\n",
    "  print(x_train.columns[variables])\n",
    "  return x_train[cols[variables]]"
   ]
  },
  {
   "cell_type": "code",
   "execution_count": 19,
   "metadata": {},
   "outputs": [
    {
     "name": "stdout",
     "output_type": "stream",
     "text": [
      "dropping 'CarName_peugeot' at index: 12\n",
      "dropping 'CarName_subaru' at index: 17\n",
      "dropping 'enginetype_rotor' at index: 34\n",
      "dropping 'fueltype_gas' at index: 20\n",
      "dropping 'citympg' at index: 57\n",
      "dropping 'cylindernumber_four' at index: 34\n",
      "dropping 'horsepower' at index: 54\n",
      "dropping 'enginesize' at index: 50\n",
      "dropping 'carlength' at index: 46\n",
      "dropping 'curbweight' at index: 48\n",
      "dropping 'carwidth' at index: 46\n",
      "dropping 'enginetype_ohc' at index: 30\n",
      "dropping 'carbody_sedan' at index: 24\n",
      "dropping 'highwaympg' at index: 49\n",
      "dropping 'fuelsystem_mpfi' at index: 40\n",
      "dropping 'wheelbase' at index: 42\n",
      "dropping 'stroke' at index: 44\n",
      "dropping 'drivewheel_fwd' at index: 25\n",
      "dropping 'carheight' at index: 41\n",
      "dropping 'compressionratio' at index: 42\n",
      "dropping 'peakrpm' at index: 42\n",
      "dropping 'boreratio' at index: 41\n",
      "dropping 'cylindernumber_five' at index: 30\n",
      "dropping 'cylindernumber_two' at index: 33\n",
      "dropping 'fuelsystem_2bbl' at index: 33\n",
      "dropping 'carbody_hatchback' at index: 23\n",
      "dropping 'cylindernumber_six' at index: 29\n",
      "dropping 'CarName_porsche' at index: 14\n",
      "Remaining variables:\n",
      "Index(['CarName_audi', 'CarName_bmw', 'CarName_buick', 'CarName_chevrolet',\n",
      "       'CarName_dodge', 'CarName_honda', 'CarName_isuzu', 'CarName_jaguar',\n",
      "       'CarName_mazda', 'CarName_mercury', 'CarName_mitsubishi',\n",
      "       'CarName_nissan', 'CarName_plymouth', 'CarName_porcshce',\n",
      "       'CarName_renault', 'CarName_saab', 'CarName_toyota',\n",
      "       'CarName_volkswagen', 'CarName_volvo', 'aspiration_turbo',\n",
      "       'doornumber_two', 'carbody_hardtop', 'carbody_wagon',\n",
      "       'enginelocation_rear', 'enginetype_dohcv', 'enginetype_l',\n",
      "       'enginetype_ohcf', 'enginetype_ohcv', 'cylindernumber_three',\n",
      "       'cylindernumber_twelve', 'fuelsystem_4bbl', 'fuelsystem_idi',\n",
      "       'fuelsystem_mfi', 'fuelsystem_spdi', 'fuelsystem_spfi'],\n",
      "      dtype='object')\n"
     ]
    },
    {
     "data": {
      "text/plain": [
       "{'CarName_peugeot',\n",
       " 'CarName_porsche',\n",
       " 'CarName_subaru',\n",
       " 'boreratio',\n",
       " 'carbody_hatchback',\n",
       " 'carbody_sedan',\n",
       " 'carheight',\n",
       " 'carlength',\n",
       " 'carwidth',\n",
       " 'citympg',\n",
       " 'compressionratio',\n",
       " 'curbweight',\n",
       " 'cylindernumber_five',\n",
       " 'cylindernumber_four',\n",
       " 'cylindernumber_six',\n",
       " 'cylindernumber_two',\n",
       " 'drivewheel_fwd',\n",
       " 'enginesize',\n",
       " 'enginetype_ohc',\n",
       " 'enginetype_rotor',\n",
       " 'fuelsystem_2bbl',\n",
       " 'fuelsystem_mpfi',\n",
       " 'fueltype_gas',\n",
       " 'highwaympg',\n",
       " 'horsepower',\n",
       " 'peakrpm',\n",
       " 'stroke',\n",
       " 'wheelbase'}"
      ]
     },
     "execution_count": 19,
     "metadata": {},
     "output_type": "execute_result"
    }
   ],
   "source": [
    "vif=vif_calc(x_train)\n",
    "x_train1=vif\n",
    "set(x_test)-set(x_train1)#to find out unique columns in train compared to test"
   ]
  },
  {
   "cell_type": "code",
   "execution_count": 20,
   "metadata": {},
   "outputs": [],
   "source": [
    "x_test1=x_test.drop(['CarName_peugeot',\n",
    " 'CarName_porsche',\n",
    " 'CarName_subaru',\n",
    " 'boreratio',\n",
    " 'carbody_hatchback',\n",
    " 'carbody_sedan',\n",
    " 'carheight',\n",
    " 'carlength',\n",
    " 'carwidth',\n",
    " 'citympg',\n",
    " 'compressionratio',\n",
    " 'curbweight',\n",
    " 'cylindernumber_five',\n",
    " 'cylindernumber_four',\n",
    " 'cylindernumber_six',\n",
    " 'cylindernumber_two',\n",
    " 'drivewheel_fwd',\n",
    " 'enginesize',\n",
    " 'enginetype_ohc',\n",
    " 'enginetype_rotor',\n",
    " 'fuelsystem_2bbl',\n",
    " 'fuelsystem_mpfi',\n",
    " 'fueltype_gas',\n",
    " 'highwaympg',\n",
    " 'horsepower',\n",
    " 'peakrpm',\n",
    " 'stroke',\n",
    " 'wheelbase'],axis=1)\n",
    "    "
   ]
  },
  {
   "cell_type": "markdown",
   "metadata": {},
   "source": [
    "##  PREDICTION"
   ]
  },
  {
   "cell_type": "code",
   "execution_count": 21,
   "metadata": {},
   "outputs": [
    {
     "data": {
      "text/plain": [
       "15930.334064846844"
      ]
     },
     "execution_count": 21,
     "metadata": {},
     "output_type": "execute_result"
    }
   ],
   "source": [
    "from sklearn.linear_model import LinearRegression\n",
    "regression=LinearRegression()\n",
    "regression.fit(x_train1,y_train)#gives line of best fit\n",
    "regression.coef_\n",
    "regression.intercept_"
   ]
  },
  {
   "cell_type": "code",
   "execution_count": 22,
   "metadata": {},
   "outputs": [],
   "source": [
    "y_pred=regression.predict(x_test1)\n"
   ]
  },
  {
   "cell_type": "code",
   "execution_count": 23,
   "metadata": {},
   "outputs": [
    {
     "data": {
      "text/plain": [
       "<matplotlib.collections.PathCollection at 0x224f86125b0>"
      ]
     },
     "execution_count": 23,
     "metadata": {},
     "output_type": "execute_result"
    },
    {
     "data": {
      "image/png": "[encoded data removed]",
      "text/plain": [
       "<Figure size 432x288 with 1 Axes>"
      ]
     },
     "metadata": {
      "needs_background": "light"
     },
     "output_type": "display_data"
    }
   ],
   "source": [
    "plt.scatter(y_test,y_pred)"
   ]
  },
  {
   "cell_type": "code",
   "execution_count": 24,
   "metadata": {},
   "outputs": [
    {
     "data": {
      "text/plain": [
       "0.8202651075431366"
      ]
     },
     "execution_count": 24,
     "metadata": {},
     "output_type": "execute_result"
    }
   ],
   "source": [
    "from sklearn.metrics import r2_score\n",
    "\n",
    "r2_score(y_test, y_pred)"
   ]
  },
  {
   "cell_type": "markdown",
   "metadata": {},
   "source": [
    "### RIDGE AND LASSO-Optimization techniques for regression models to reduce overfitting"
   ]
  },
  {
   "cell_type": "code",
   "execution_count": 25,
   "metadata": {},
   "outputs": [
    {
     "data": {
      "text/plain": [
       "0.7986883915357053"
      ]
     },
     "execution_count": 25,
     "metadata": {},
     "output_type": "execute_result"
    }
   ],
   "source": [
    "from sklearn.linear_model import Ridge\n",
    "from sklearn.model_selection import GridSearchCV\n",
    "\n",
    "ridge=Ridge()\n",
    "parameters={'alpha':[0,1e-10,1e-15,1,2,5,10,50,100]}#1e-10=0.000000001#for hyperparmeter tuning\n",
    "ridge_grid=GridSearchCV(ridge,param_grid=parameters,scoring='r2',cv=10)\n",
    "ridge_grid.fit(x_train,y_train)\n",
    "ridge_grid.best_params_#{'alpha': 10}\n",
    "ridge_grid.best_score_#0.80"
   ]
  },
  {
   "cell_type": "code",
   "execution_count": 26,
   "metadata": {},
   "outputs": [
    {
     "data": {
      "text/plain": [
       "0.8079905679655187"
      ]
     },
     "execution_count": 26,
     "metadata": {},
     "output_type": "execute_result"
    }
   ],
   "source": [
    "from sklearn.linear_model import Lasso\n",
    "lasso=Lasso()\n",
    "from sklearn.model_selection import GridSearchCV\n",
    "\n",
    "parameters={'alpha':[0,1e-10,1e-15,1,2,5,10,50,100]}#1e-10=0.000000001#for hyperparmeter tuning\n",
    "lasso_grid=GridSearchCV(lasso,param_grid=parameters,scoring='r2',cv=10)\n",
    "lasso_grid.fit(x_train,y_train)\n",
    "lasso_grid.best_params_\n",
    "lasso_grid.best_score_#0.81"
   ]
  },
  {
   "cell_type": "markdown",
   "metadata": {},
   "source": [
    "### PCA"
   ]
  },
  {
   "cell_type": "code",
   "execution_count": 27,
   "metadata": {},
   "outputs": [
    {
     "data": {
      "text/plain": [
       "0.5962791060438445"
      ]
     },
     "execution_count": 27,
     "metadata": {},
     "output_type": "execute_result"
    }
   ],
   "source": [
    "from sklearn.preprocessing import StandardScaler\n",
    "scale=StandardScaler()\n",
    "x2=scale.fit_transform(cat_num)\n",
    "x2=pd.DataFrame(x2)\n",
    "cat_num.columns\n",
    "x2.columns=cat_num.columns\n",
    "x3=pd.concat([x_cat,x2],axis=1)\n",
    "#train test split\n",
    "from sklearn.model_selection import train_test_split\n",
    "x_train_pca, x_test_pca,y_train_pca,y_test_pca = train_test_split(x3,y,test_size = 0.3, random_state = 100)\n",
    "\n",
    "\n",
    "from sklearn.decomposition import PCA\n",
    "pca=PCA()#pca(n_compo=5) will take top 5 feature out of 13 if nothing is given it will take all 13\n",
    "\n",
    "x_train_pca=pca.fit_transform(x_train)#fing eigen values,eigen vectors and sort it by descending order\n",
    "x_test_pca=pca.transform(x_test)\n",
    "explained_ratio=pca.explained_variance_ratio_#features(columns) is in order of descending sort\n",
    "\n",
    "import numpy as np\n",
    "np.cumsum(explained_ratio)#cumulative sum out of 13 features up 9 features its 95 percent so we can remove other 4\n",
    "#but column name is not orderly hence we dont know what can be removed so this is PCA\n",
    "\n",
    "####\n",
    "from sklearn.decomposition import PCA\n",
    "pca=PCA(n_components=10)#pca(n_compo=10) will take top 10 feature out of 63 since they contribute more\n",
    "\n",
    "x_train_pca=pca.fit_transform(x_train)#find eigen values,eigen vectors and sort it by descending order\n",
    "x_test_pca=pca.transform(x_test)\n",
    "explained_ratio=pca.explained_variance_ratio_#features(columns) is in order of descending sort\n",
    "\n",
    "import numpy as np\n",
    "np.cumsum(explained_ratio)\n",
    "\n",
    "\n",
    "from sklearn.linear_model import LinearRegression\n",
    "regression=LinearRegression()\n",
    "regression.fit(x_train_pca,y_train_pca)#gives line of best fit\n",
    "regression.coef_\n",
    "regression.intercept_\n",
    "\n",
    "y_pred_pca=regression.predict(x_test_pca)\n",
    "\n",
    "\n",
    "from sklearn.metrics import r2_score\n",
    "\n",
    "r2_score(y_test_pca, y_pred_pca)\n"
   ]
  },
  {
   "cell_type": "markdown",
   "metadata": {},
   "source": [
    "### OLS\n",
    "### backward elimination"
   ]
  },
  {
   "cell_type": "code",
   "execution_count": 28,
   "metadata": {},
   "outputs": [
    {
     "data": {
      "text/html": [
       "<table class=\"simpletable\">\n",
       "<caption>OLS Regression Results</caption>\n",
       "<tr>\n",
       "  <th>Dep. Variable:</th>          <td>price</td>      <th>  R-squared:         </th> <td>   0.912</td>\n",
       "</tr>\n",
       "<tr>\n",
       "  <th>Model:</th>                   <td>OLS</td>       <th>  Adj. R-squared:    </th> <td>   0.896</td>\n",
       "</tr>\n",
       "<tr>\n",
       "  <th>Method:</th>             <td>Least Squares</td>  <th>  F-statistic:       </th> <td>   59.75</td>\n",
       "</tr>\n",
       "<tr>\n",
       "  <th>Date:</th>             <td>Mon, 13 Jun 2022</td> <th>  Prob (F-statistic):</th> <td>3.37e-76</td>\n",
       "</tr>\n",
       "<tr>\n",
       "  <th>Time:</th>                 <td>15:15:26</td>     <th>  Log-Likelihood:    </th> <td> -1883.9</td>\n",
       "</tr>\n",
       "<tr>\n",
       "  <th>No. Observations:</th>      <td>   205</td>      <th>  AIC:               </th> <td>   3830.</td>\n",
       "</tr>\n",
       "<tr>\n",
       "  <th>Df Residuals:</th>          <td>   174</td>      <th>  BIC:               </th> <td>   3933.</td>\n",
       "</tr>\n",
       "<tr>\n",
       "  <th>Df Model:</th>              <td>    30</td>      <th>                     </th>     <td> </td>   \n",
       "</tr>\n",
       "<tr>\n",
       "  <th>Covariance Type:</th>      <td>nonrobust</td>    <th>                     </th>     <td> </td>   \n",
       "</tr>\n",
       "</table>\n",
       "<table class=\"simpletable\">\n",
       "<tr>\n",
       "           <td></td>              <th>coef</th>     <th>std err</th>      <th>t</th>      <th>P>|t|</th>  <th>[0.025</th>    <th>0.975]</th>  \n",
       "</tr>\n",
       "<tr>\n",
       "  <th>CarName_bmw</th>         <td> 4973.8812</td> <td> 1335.997</td> <td>    3.723</td> <td> 0.000</td> <td> 2337.036</td> <td> 7610.727</td>\n",
       "</tr>\n",
       "<tr>\n",
       "  <th>CarName_buick</th>       <td> 1.071e+04</td> <td> 1491.674</td> <td>    7.178</td> <td> 0.000</td> <td> 7763.299</td> <td> 1.37e+04</td>\n",
       "</tr>\n",
       "<tr>\n",
       "  <th>CarName_chevrolet</th>   <td>-5470.4493</td> <td> 1803.085</td> <td>   -3.034</td> <td> 0.003</td> <td>-9029.182</td> <td>-1911.716</td>\n",
       "</tr>\n",
       "<tr>\n",
       "  <th>CarName_dodge</th>       <td>-5899.2939</td> <td> 1235.103</td> <td>   -4.776</td> <td> 0.000</td> <td>-8337.006</td> <td>-3461.582</td>\n",
       "</tr>\n",
       "<tr>\n",
       "  <th>CarName_honda</th>       <td>-4917.1044</td> <td> 1152.314</td> <td>   -4.267</td> <td> 0.000</td> <td>-7191.416</td> <td>-2642.792</td>\n",
       "</tr>\n",
       "<tr>\n",
       "  <th>CarName_isuzu</th>       <td>-4033.0020</td> <td> 1558.449</td> <td>   -2.588</td> <td> 0.010</td> <td>-7108.899</td> <td> -957.105</td>\n",
       "</tr>\n",
       "<tr>\n",
       "  <th>CarName_mazda</th>       <td>-5842.1908</td> <td>  987.095</td> <td>   -5.919</td> <td> 0.000</td> <td>-7790.411</td> <td>-3893.970</td>\n",
       "</tr>\n",
       "<tr>\n",
       "  <th>CarName_mitsubishi</th>  <td>-7671.5745</td> <td> 1139.012</td> <td>   -6.735</td> <td> 0.000</td> <td>-9919.633</td> <td>-5423.516</td>\n",
       "</tr>\n",
       "<tr>\n",
       "  <th>CarName_nissan</th>      <td>-4931.0217</td> <td>  982.635</td> <td>   -5.018</td> <td> 0.000</td> <td>-6870.439</td> <td>-2991.604</td>\n",
       "</tr>\n",
       "<tr>\n",
       "  <th>CarName_peugeot</th>     <td>-4404.1294</td> <td> 1102.025</td> <td>   -3.996</td> <td> 0.000</td> <td>-6579.186</td> <td>-2229.073</td>\n",
       "</tr>\n",
       "<tr>\n",
       "  <th>CarName_plymouth</th>    <td>-5989.1997</td> <td> 1294.918</td> <td>   -4.625</td> <td> 0.000</td> <td>-8544.968</td> <td>-3433.431</td>\n",
       "</tr>\n",
       "<tr>\n",
       "  <th>CarName_renault</th>     <td>-8500.9634</td> <td> 1946.999</td> <td>   -4.366</td> <td> 0.000</td> <td>-1.23e+04</td> <td>-4658.188</td>\n",
       "</tr>\n",
       "<tr>\n",
       "  <th>CarName_subaru</th>      <td>-8169.8858</td> <td> 1043.773</td> <td>   -7.827</td> <td> 0.000</td> <td>-1.02e+04</td> <td>-6109.799</td>\n",
       "</tr>\n",
       "<tr>\n",
       "  <th>CarName_toyota</th>      <td>-5690.4262</td> <td>  838.477</td> <td>   -6.787</td> <td> 0.000</td> <td>-7345.321</td> <td>-4035.531</td>\n",
       "</tr>\n",
       "<tr>\n",
       "  <th>CarName_volkswagen</th>  <td>-4889.4500</td> <td> 1031.436</td> <td>   -4.740</td> <td> 0.000</td> <td>-6925.187</td> <td>-2853.713</td>\n",
       "</tr>\n",
       "<tr>\n",
       "  <th>fueltype_gas</th>        <td>-1488.0663</td> <td> 1142.632</td> <td>   -1.302</td> <td> 0.195</td> <td>-3743.270</td> <td>  767.137</td>\n",
       "</tr>\n",
       "<tr>\n",
       "  <th>carbody_hatchback</th>   <td>-1322.1923</td> <td>  495.655</td> <td>   -2.668</td> <td> 0.008</td> <td>-2300.462</td> <td> -343.923</td>\n",
       "</tr>\n",
       "<tr>\n",
       "  <th>enginelocation_rear</th> <td> 1.019e+04</td> <td> 1437.162</td> <td>    7.087</td> <td> 0.000</td> <td> 7349.140</td> <td>  1.3e+04</td>\n",
       "</tr>\n",
       "<tr>\n",
       "  <th>enginetype_ohcf</th>     <td> 2015.7683</td> <td>  922.934</td> <td>    2.184</td> <td> 0.030</td> <td>  194.181</td> <td> 3837.356</td>\n",
       "</tr>\n",
       "<tr>\n",
       "  <th>enginetype_ohcv</th>     <td>-2030.3417</td> <td> 1245.320</td> <td>   -1.630</td> <td> 0.105</td> <td>-4488.219</td> <td>  427.536</td>\n",
       "</tr>\n",
       "<tr>\n",
       "  <th>cylindernumber_five</th> <td>-8376.5781</td> <td> 1576.235</td> <td>   -5.314</td> <td> 0.000</td> <td>-1.15e+04</td> <td>-5265.576</td>\n",
       "</tr>\n",
       "<tr>\n",
       "  <th>cylindernumber_four</th> <td>-6300.3408</td> <td> 1266.550</td> <td>   -4.974</td> <td> 0.000</td> <td>-8800.120</td> <td>-3800.562</td>\n",
       "</tr>\n",
       "<tr>\n",
       "  <th>cylindernumber_six</th>  <td>-2636.1804</td> <td> 1458.867</td> <td>   -1.807</td> <td> 0.072</td> <td>-5515.534</td> <td>  243.173</td>\n",
       "</tr>\n",
       "<tr>\n",
       "  <th>carlength</th>           <td>  -19.2320</td> <td>   11.537</td> <td>   -1.667</td> <td> 0.097</td> <td>  -42.002</td> <td>    3.538</td>\n",
       "</tr>\n",
       "<tr>\n",
       "  <th>carwidth</th>            <td>   30.0971</td> <td>    9.728</td> <td>    3.094</td> <td> 0.002</td> <td>   10.898</td> <td>   49.296</td>\n",
       "</tr>\n",
       "<tr>\n",
       "  <th>carheight</th>           <td>  -13.9110</td> <td>    5.286</td> <td>   -2.632</td> <td> 0.009</td> <td>  -24.344</td> <td>   -3.478</td>\n",
       "</tr>\n",
       "<tr>\n",
       "  <th>curbweight</th>          <td>   36.4041</td> <td>   11.751</td> <td>    3.098</td> <td> 0.002</td> <td>   13.212</td> <td>   59.596</td>\n",
       "</tr>\n",
       "<tr>\n",
       "  <th>enginesize</th>          <td>   10.3918</td> <td>   11.176</td> <td>    0.930</td> <td> 0.354</td> <td>  -11.666</td> <td>   32.450</td>\n",
       "</tr>\n",
       "<tr>\n",
       "  <th>boreratio</th>           <td>    0.6255</td> <td>    8.610</td> <td>    0.073</td> <td> 0.942</td> <td>  -16.369</td> <td>   17.620</td>\n",
       "</tr>\n",
       "<tr>\n",
       "  <th>compressionratio</th>    <td>  -14.8587</td> <td>    5.056</td> <td>   -2.939</td> <td> 0.004</td> <td>  -24.838</td> <td>   -4.879</td>\n",
       "</tr>\n",
       "<tr>\n",
       "  <th>peakrpm</th>             <td>    2.3186</td> <td>    5.663</td> <td>    0.409</td> <td> 0.683</td> <td>   -8.859</td> <td>   13.497</td>\n",
       "</tr>\n",
       "<tr>\n",
       "  <th>intercept</th>           <td> 2.097e+04</td> <td> 2539.385</td> <td>    8.257</td> <td> 0.000</td> <td>  1.6e+04</td> <td>  2.6e+04</td>\n",
       "</tr>\n",
       "</table>\n",
       "<table class=\"simpletable\">\n",
       "<tr>\n",
       "  <th>Omnibus:</th>       <td>51.729</td> <th>  Durbin-Watson:     </th> <td>   1.224</td>\n",
       "</tr>\n",
       "<tr>\n",
       "  <th>Prob(Omnibus):</th> <td> 0.000</td> <th>  Jarque-Bera (JB):  </th> <td> 131.732</td>\n",
       "</tr>\n",
       "<tr>\n",
       "  <th>Skew:</th>          <td> 1.098</td> <th>  Prob(JB):          </th> <td>2.48e-29</td>\n",
       "</tr>\n",
       "<tr>\n",
       "  <th>Kurtosis:</th>      <td> 6.255</td> <th>  Cond. No.          </th> <td>1.05e+16</td>\n",
       "</tr>\n",
       "</table><br/><br/>Notes:<br/>[1] Standard Errors assume that the covariance matrix of the errors is correctly specified.<br/>[2] The smallest eigenvalue is 1.77e-25. This might indicate that there are<br/>strong multicollinearity problems or that the design matrix is singular."
      ],
      "text/plain": [
       "<class 'statsmodels.iolib.summary.Summary'>\n",
       "\"\"\"\n",
       "                            OLS Regression Results                            \n",
       "==============================================================================\n",
       "Dep. Variable:                  price   R-squared:                       0.912\n",
       "Model:                            OLS   Adj. R-squared:                  0.896\n",
       "Method:                 Least Squares   F-statistic:                     59.75\n",
       "Date:                Mon, 13 Jun 2022   Prob (F-statistic):           3.37e-76\n",
       "Time:                        15:15:26   Log-Likelihood:                -1883.9\n",
       "No. Observations:                 205   AIC:                             3830.\n",
       "Df Residuals:                     174   BIC:                             3933.\n",
       "Df Model:                          30                                         \n",
       "Covariance Type:            nonrobust                                         \n",
       "=======================================================================================\n",
       "                          coef    std err          t      P>|t|      [0.025      0.975]\n",
       "---------------------------------------------------------------------------------------\n",
       "CarName_bmw          4973.8812   1335.997      3.723      0.000    2337.036    7610.727\n",
       "CarName_buick        1.071e+04   1491.674      7.178      0.000    7763.299    1.37e+04\n",
       "CarName_chevrolet   -5470.4493   1803.085     -3.034      0.003   -9029.182   -1911.716\n",
       "CarName_dodge       -5899.2939   1235.103     -4.776      0.000   -8337.006   -3461.582\n",
       "CarName_honda       -4917.1044   1152.314     -4.267      0.000   -7191.416   -2642.792\n",
       "CarName_isuzu       -4033.0020   1558.449     -2.588      0.010   -7108.899    -957.105\n",
       "CarName_mazda       -5842.1908    987.095     -5.919      0.000   -7790.411   -3893.970\n",
       "CarName_mitsubishi  -7671.5745   1139.012     -6.735      0.000   -9919.633   -5423.516\n",
       "CarName_nissan      -4931.0217    982.635     -5.018      0.000   -6870.439   -2991.604\n",
       "CarName_peugeot     -4404.1294   1102.025     -3.996      0.000   -6579.186   -2229.073\n",
       "CarName_plymouth    -5989.1997   1294.918     -4.625      0.000   -8544.968   -3433.431\n",
       "CarName_renault     -8500.9634   1946.999     -4.366      0.000   -1.23e+04   -4658.188\n",
       "CarName_subaru      -8169.8858   1043.773     -7.827      0.000   -1.02e+04   -6109.799\n",
       "CarName_toyota      -5690.4262    838.477     -6.787      0.000   -7345.321   -4035.531\n",
       "CarName_volkswagen  -4889.4500   1031.436     -4.740      0.000   -6925.187   -2853.713\n",
       "fueltype_gas        -1488.0663   1142.632     -1.302      0.195   -3743.270     767.137\n",
       "carbody_hatchback   -1322.1923    495.655     -2.668      0.008   -2300.462    -343.923\n",
       "enginelocation_rear  1.019e+04   1437.162      7.087      0.000    7349.140     1.3e+04\n",
       "enginetype_ohcf      2015.7683    922.934      2.184      0.030     194.181    3837.356\n",
       "enginetype_ohcv     -2030.3417   1245.320     -1.630      0.105   -4488.219     427.536\n",
       "cylindernumber_five -8376.5781   1576.235     -5.314      0.000   -1.15e+04   -5265.576\n",
       "cylindernumber_four -6300.3408   1266.550     -4.974      0.000   -8800.120   -3800.562\n",
       "cylindernumber_six  -2636.1804   1458.867     -1.807      0.072   -5515.534     243.173\n",
       "carlength             -19.2320     11.537     -1.667      0.097     -42.002       3.538\n",
       "carwidth               30.0971      9.728      3.094      0.002      10.898      49.296\n",
       "carheight             -13.9110      5.286     -2.632      0.009     -24.344      -3.478\n",
       "curbweight             36.4041     11.751      3.098      0.002      13.212      59.596\n",
       "enginesize             10.3918     11.176      0.930      0.354     -11.666      32.450\n",
       "boreratio               0.6255      8.610      0.073      0.942     -16.369      17.620\n",
       "compressionratio      -14.8587      5.056     -2.939      0.004     -24.838      -4.879\n",
       "peakrpm                 2.3186      5.663      0.409      0.683      -8.859      13.497\n",
       "intercept            2.097e+04   2539.385      8.257      0.000     1.6e+04     2.6e+04\n",
       "==============================================================================\n",
       "Omnibus:                       51.729   Durbin-Watson:                   1.224\n",
       "Prob(Omnibus):                  0.000   Jarque-Bera (JB):              131.732\n",
       "Skew:                           1.098   Prob(JB):                     2.48e-29\n",
       "Kurtosis:                       6.255   Cond. No.                     1.05e+16\n",
       "==============================================================================\n",
       "\n",
       "Notes:\n",
       "[1] Standard Errors assume that the covariance matrix of the errors is correctly specified.\n",
       "[2] The smallest eigenvalue is 1.77e-25. This might indicate that there are\n",
       "strong multicollinearity problems or that the design matrix is singular.\n",
       "\"\"\""
      ]
     },
     "execution_count": 28,
     "metadata": {},
     "output_type": "execute_result"
    }
   ],
   "source": [
    "import statsmodels.api as sm #for stats model always we need to give intercept#for sk learn no need to give intercept\n",
    "x1['intercept']=1\n",
    "x1_ols=x1\n",
    "reg_OLS=sm.OLS(y,x1_ols).fit()#ordinary least square\n",
    "reg_OLS.summary()\n",
    "#dropping CarName_audi  p>0.05\n",
    "x1_ols=x1_ols.drop(['CarName_audi'],axis=1)\n",
    "reg_OLS=sm.OLS(y,x1_ols).fit()#ordinary least square\n",
    "reg_OLS.summary()\n",
    "#dropping citympg  p>0.05\n",
    "x1_ols=x1_ols.drop(['citympg'],axis=1)\n",
    "reg_OLS=sm.OLS(y,x1_ols).fit()\n",
    "reg_OLS.summary()\n",
    "#dropping horsepower p>0.05\n",
    "x1_ols=x1_ols.drop(['horsepower'],axis=1)\n",
    "reg_OLS=sm.OLS(y,x1_ols).fit()\n",
    "reg_OLS.summary()\n",
    "#dropping fuelsystem_mfi p>0.05\n",
    "x1_ols=x1_ols.drop(['fuelsystem_mfi'],axis=1)\n",
    "reg_OLS=sm.OLS(y,x1_ols).fit()\n",
    "reg_OLS.summary()\n",
    "#dropping CarName_porcshce p>0.05\n",
    "x1_ols=x1_ols.drop(['CarName_porcshce'],axis=1)\n",
    "reg_OLS=sm.OLS(y,x1_ols).fit()\n",
    "reg_OLS.summary()\n",
    "#dropping fuelsystem_4bbl p>0.05\n",
    "x1_ols=x1_ols.drop(['fuelsystem_4bbl'],axis=1)\n",
    "reg_OLS=sm.OLS(y,x1_ols).fit()\n",
    "reg_OLS.summary()\n",
    "#dropping CarName_saab p>0.05\n",
    "x1_ols=x1_ols.drop(['CarName_saab'],axis=1)\n",
    "reg_OLS=sm.OLS(y,x1_ols).fit()\n",
    "reg_OLS.summary()\n",
    "#dropping fuelsystem_idi p>0.05\n",
    "x1_ols=x1_ols.drop(['fuelsystem_idi'],axis=1)\n",
    "reg_OLS=sm.OLS(y,x1_ols).fit()\n",
    "reg_OLS.summary()\n",
    "#dropping enginetype_l p>0.05\n",
    "x1_ols=x1_ols.drop(['enginetype_l'],axis=1)\n",
    "reg_OLS=sm.OLS(y,x1_ols).fit()\n",
    "reg_OLS.summary()\n",
    "#dropping drivewheel_fwd p>0.05\n",
    "x1_ols=x1_ols.drop(['drivewheel_fwd'],axis=1)\n",
    "reg_OLS=sm.OLS(y,x1_ols).fit()\n",
    "reg_OLS.summary()\n",
    "#dropping fuelsystem_spdi p>0.05\n",
    "x1_ols=x1_ols.drop(['fuelsystem_spdi'],axis=1)\n",
    "reg_OLS=sm.OLS(y,x1_ols).fit()\n",
    "reg_OLS.summary()\n",
    "#dropping fuelsystem_spfi p>0.05\n",
    "x1_ols=x1_ols.drop(['fuelsystem_spfi'],axis=1)\n",
    "reg_OLS=sm.OLS(y,x1_ols).fit()\n",
    "reg_OLS.summary()\n",
    "#dropping doornumber_two p>0.05\n",
    "x1_ols=x1_ols.drop(['doornumber_two'],axis=1)\n",
    "reg_OLS=sm.OLS(y,x1_ols).fit()\n",
    "reg_OLS.summary()\n",
    "#dropping CarName_jaguar p>0.05\n",
    "x1_ols=x1_ols.drop(['CarName_jaguar'],axis=1)\n",
    "reg_OLS=sm.OLS(y,x1_ols).fit()\n",
    "reg_OLS.summary()\n",
    "#dropping cylindernumber_three p>0.05\n",
    "x1_ols=x1_ols.drop(['cylindernumber_three'],axis=1)\n",
    "reg_OLS=sm.OLS(y,x1_ols).fit()\n",
    "reg_OLS.summary()\n",
    "#dropping cylindernumber_two p>0.05\n",
    "x1_ols=x1_ols.drop(['cylindernumber_two'],axis=1)\n",
    "reg_OLS=sm.OLS(y,x1_ols).fit()\n",
    "reg_OLS.summary()\n",
    "#dropping enginetype_rotor p>0.05\n",
    "x1_ols=x1_ols.drop(['enginetype_rotor'],axis=1)\n",
    "reg_OLS=sm.OLS(y,x1_ols).fit()\n",
    "reg_OLS.summary()\n",
    "#dropping enginetype_ohc p>0.05\n",
    "x1_ols=x1_ols.drop(['enginetype_ohc'],axis=1)\n",
    "reg_OLS=sm.OLS(y,x1_ols).fit()\n",
    "reg_OLS.summary()\n",
    "#dropping cylindernumber_twelve p>0.05\n",
    "x1_ols=x1_ols.drop(['cylindernumber_twelve'],axis=1)\n",
    "reg_OLS=sm.OLS(y,x1_ols).fit()\n",
    "reg_OLS.summary()\n",
    "#dropping stroke p>0.05\n",
    "x1_ols=x1_ols.drop(['stroke'],axis=1)\n",
    "reg_OLS=sm.OLS(y,x1_ols).fit()\n",
    "reg_OLS.summary()\n",
    "#dropping carbody_hardtop p>0.05\n",
    "x1_ols=x1_ols.drop(['carbody_hardtop'],axis=1)\n",
    "reg_OLS=sm.OLS(y,x1_ols).fit()\n",
    "reg_OLS.summary()\n",
    "#dropping carbody_sedan p>0.05\n",
    "x1_ols=x1_ols.drop(['carbody_sedan'],axis=1)\n",
    "reg_OLS=sm.OLS(y,x1_ols).fit()\n",
    "reg_OLS.summary()\n",
    "#dropping carbody_wagon p>0.05\n",
    "x1_ols=x1_ols.drop(['carbody_wagon'],axis=1)\n",
    "reg_OLS=sm.OLS(y,x1_ols).fit()\n",
    "reg_OLS.summary()\n",
    "#dropping highwaympg p>0.05\n",
    "x1_ols=x1_ols.drop(['highwaympg'],axis=1)\n",
    "reg_OLS=sm.OLS(y,x1_ols).fit()\n",
    "reg_OLS.summary()\n",
    "#dropping enginetype_dohcv p>0.05\n",
    "x1_ols=x1_ols.drop(['enginetype_dohcv'],axis=1)\n",
    "reg_OLS=sm.OLS(y,x1_ols).fit()\n",
    "reg_OLS.summary()\n",
    "#dropping CarName_porsche p>0.05\n",
    "x1_ols=x1_ols.drop(['CarName_porsche'],axis=1)\n",
    "reg_OLS=sm.OLS(y,x1_ols).fit()\n",
    "reg_OLS.summary()\n",
    "#dropping aspiration_turbo p>0.05\n",
    "x1_ols=x1_ols.drop(['aspiration_turbo'],axis=1)\n",
    "reg_OLS=sm.OLS(y,x1_ols).fit()\n",
    "reg_OLS.summary()\n",
    "#dropping fuelsystem_mpfi p>0.05\n",
    "x1_ols=x1_ols.drop(['fuelsystem_mpfi'],axis=1)\n",
    "reg_OLS=sm.OLS(y,x1_ols).fit()\n",
    "reg_OLS.summary()\n",
    "#dropping CarName_mercury p>0.05\n",
    "x1_ols=x1_ols.drop(['CarName_mercury'],axis=1)\n",
    "reg_OLS=sm.OLS(y,x1_ols).fit()\n",
    "reg_OLS.summary()\n",
    "#dropping CarName_volvo p>0.05\n",
    "x1_ols=x1_ols.drop(['CarName_volvo'],axis=1)\n",
    "reg_OLS=sm.OLS(y,x1_ols).fit()\n",
    "reg_OLS.summary()\n",
    "#dropping wheelbase p>0.05\n",
    "x1_ols=x1_ols.drop(['wheelbase'],axis=1)\n",
    "reg_OLS=sm.OLS(y,x1_ols).fit()\n",
    "reg_OLS.summary()\n",
    "#dropping fuelsystem_2bbl p>0.05\n",
    "x1_ols=x1_ols.drop(['fuelsystem_2bbl'],axis=1)\n",
    "reg_OLS=sm.OLS(y,x1_ols).fit()\n",
    "reg_OLS.summary()\n"
   ]
  },
  {
   "cell_type": "code",
   "execution_count": 29,
   "metadata": {},
   "outputs": [
    {
     "data": {
      "text/plain": [
       "0.9115243566816633"
      ]
     },
     "execution_count": 29,
     "metadata": {},
     "output_type": "execute_result"
    }
   ],
   "source": [
    "reg_OLS.rsquared_adj\n",
    "reg_OLS.rsquared"
   ]
  },
  {
   "cell_type": "code",
   "execution_count": 30,
   "metadata": {},
   "outputs": [],
   "source": [
    "x1_ols=x1_ols.drop(['intercept'],axis=1)\n",
    "from sklearn.model_selection import train_test_split\n",
    "x_train_ols, x_test_ols,y_train_ols,y_test_ols = train_test_split(x1_ols,y,test_size = 0.3, random_state = 100)"
   ]
  },
  {
   "cell_type": "code",
   "execution_count": 31,
   "metadata": {},
   "outputs": [
    {
     "data": {
      "text/plain": [
       "20952.180540281966"
      ]
     },
     "execution_count": 31,
     "metadata": {},
     "output_type": "execute_result"
    }
   ],
   "source": [
    "from sklearn.linear_model import LinearRegression\n",
    "regression=LinearRegression()\n",
    "regression.fit(x_train_ols,y_train_ols)#gives line of best fit\n",
    "regression.coef_\n",
    "regression.intercept_"
   ]
  },
  {
   "cell_type": "code",
   "execution_count": 32,
   "metadata": {},
   "outputs": [],
   "source": [
    "y_pred_ols=regression.predict(x_test_ols)"
   ]
  },
  {
   "cell_type": "code",
   "execution_count": 33,
   "metadata": {},
   "outputs": [
    {
     "name": "stdout",
     "output_type": "stream",
     "text": [
      "0.8777416267476115\n",
      "<class 'pandas.core.frame.DataFrame'>\n",
      "Int64Index: 143 entries, 122 to 8\n",
      "Data columns (total 31 columns):\n",
      " #   Column               Non-Null Count  Dtype  \n",
      "---  ------               --------------  -----  \n",
      " 0   CarName_bmw          143 non-null    uint8  \n",
      " 1   CarName_buick        143 non-null    uint8  \n",
      " 2   CarName_chevrolet    143 non-null    uint8  \n",
      " 3   CarName_dodge        143 non-null    uint8  \n",
      " 4   CarName_honda        143 non-null    uint8  \n",
      " 5   CarName_isuzu        143 non-null    uint8  \n",
      " 6   CarName_mazda        143 non-null    uint8  \n",
      " 7   CarName_mitsubishi   143 non-null    uint8  \n",
      " 8   CarName_nissan       143 non-null    uint8  \n",
      " 9   CarName_peugeot      143 non-null    uint8  \n",
      " 10  CarName_plymouth     143 non-null    uint8  \n",
      " 11  CarName_renault      143 non-null    uint8  \n",
      " 12  CarName_subaru       143 non-null    uint8  \n",
      " 13  CarName_toyota       143 non-null    uint8  \n",
      " 14  CarName_volkswagen   143 non-null    uint8  \n",
      " 15  fueltype_gas         143 non-null    uint8  \n",
      " 16  carbody_hatchback    143 non-null    uint8  \n",
      " 17  enginelocation_rear  143 non-null    uint8  \n",
      " 18  enginetype_ohcf      143 non-null    uint8  \n",
      " 19  enginetype_ohcv      143 non-null    uint8  \n",
      " 20  cylindernumber_five  143 non-null    uint8  \n",
      " 21  cylindernumber_four  143 non-null    uint8  \n",
      " 22  cylindernumber_six   143 non-null    uint8  \n",
      " 23  carlength            143 non-null    float64\n",
      " 24  carwidth             143 non-null    float64\n",
      " 25  carheight            143 non-null    float64\n",
      " 26  curbweight           143 non-null    float64\n",
      " 27  enginesize           143 non-null    float64\n",
      " 28  boreratio            143 non-null    float64\n",
      " 29  compressionratio     143 non-null    float64\n",
      " 30  peakrpm              143 non-null    float64\n",
      "dtypes: float64(8), uint8(23)\n",
      "memory usage: 13.3 KB\n"
     ]
    },
    {
     "data": {
      "image/png": "[encoded data removed]",
      "text/plain": [
       "<Figure size 432x288 with 1 Axes>"
      ]
     },
     "metadata": {
      "needs_background": "light"
     },
     "output_type": "display_data"
    }
   ],
   "source": [
    "\n",
    "from sklearn.metrics import r2_score\n",
    "\n",
    "r2_ols = r2_score(y_test_ols, y_pred_ols)#0.93\n",
    "print(r2_ols)\n",
    "plt.scatter(y_test_ols,y_pred_ols)\n",
    "\n",
    "x_train_ols.info()"
   ]
  },
  {
   "cell_type": "code",
   "execution_count": 34,
   "metadata": {},
   "outputs": [],
   "source": [
    "#Final inference\n",
    "#The important features that dictate the price of the cars are fueltype_gas,carbody_hatchback,enginelocation_rear,enginetype_ohcf,\n",
    "#enginetype_ohcv,cylindernumber_five,cylindernumber_four,cylindernumber_six,carlength,carwidth,carheight,curbweight,enginesize,boreratio,compressionratio,peakrpm"
   ]
  }
 ],
 "metadata": {
  "kernelspec": {
   "display_name": "Python 3 (ipykernel)",
   "language": "python",
   "name": "python3"
  },
  "language_info": {
   "codemirror_mode": {
    "name": "ipython",
    "version": 3
   },
   "file_extension": ".py",
   "mimetype": "text/x-python",
   "name": "python",
   "nbconvert_exporter": "python",
   "pygments_lexer": "ipython3",
   "version": "3.9.7"
  }
 },
 "nbformat": 4,
 "nbformat_minor": 2
}
